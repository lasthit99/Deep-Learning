{
 "cells": [
  {
   "cell_type": "code",
   "execution_count": 17,
   "id": "4949b0b8",
   "metadata": {},
   "outputs": [],
   "source": [
    "#Basit bir yapay sinir ağından başlıyoruz.\n",
    "\n",
    "import numpy as np\n",
    "import matplotlib.pyplot as plt"
   ]
  },
  {
   "cell_type": "code",
   "execution_count": 18,
   "id": "8f2e7158",
   "metadata": {},
   "outputs": [
    {
     "data": {
      "image/png": "[encoded data removed]",
      "text/plain": [
       "<Figure size 432x432 with 2 Axes>"
      ]
     },
     "metadata": {
      "needs_background": "light"
     },
     "output_type": "display_data"
    }
   ],
   "source": [
    "from matplotlib import pyplot as plt\n",
    "\n",
    "#And gate diye tabir edilen ve kapısı.Girdilere göre çıktıları üretecek bir\n",
    "#yapay sinir ağı yapacağız.\n",
    "#Bu problem lineer olarak ayrılabilir yani iki farklı gruba bir doğru çektiğimizde\n",
    "#birbirinden ayırabilirmiyiz evet.\n",
    "#Bu bir sınıflandırma problemimidir.Çünkü 0-0 verdiğimizde Bize çıktı üretirken\n",
    "#sınıflandırmadır.İkili sınıflandırmadır.\n",
    "\n",
    "area=200\n",
    "fig = plt.figure(figsize=(6,6))\n",
    "plt.title('The And Gate',fontsize=20)\n",
    "ax = fig.add_subplot(111)\n",
    "\n",
    "\n",
    "ax.scatter(0,0,s=area,c='r',label=\"Class 0\")\n",
    "ax.scatter(0,1,s=area,c='r',label=\"Class 0\")\n",
    "ax.scatter(1,0,s=area,c='r',label=\"Class 0\")\n",
    "ax.scatter(1,1,s=area,c='b',label=\"Class 1\")\n",
    "\n",
    "plt.grid()\n",
    "plt.show()\n"
   ]
  },
  {
   "cell_type": "code",
   "execution_count": 19,
   "id": "b9f061c5",
   "metadata": {},
   "outputs": [],
   "source": [
    "#Binary cross entropy fonksiyonumuz:\n",
    "#Olması gereken değer*Fonksiyonun tahmini + (1-Olması gereken değer)*log(1-Fonksiyonun tahmini)\n",
    "\n",
    "#Output yani y değerinin 1 olması durumunda: sağ kısım iptal çünkü 1-olm.gereken değer = 0\n",
    "#olacağından o kısım 0 olur. Bizede sadece Olması gereken değer*log(tahmin) kalır.\n",
    "#Olması gereken değer 1 olduğu için 1 ile çarpmaya gerek duyulmamış.\n",
    "\n",
    "#Olması gereken değer yani y 0 olması durumunda:0'sa sol taraf gidiyordu.\n",
    "#Geriye (1-olması gereken)*log(1-tahmin) kalıyor.y=olması gereken = 0 koyunca\n",
    "#log(1-tahmin) kalıyor.\n",
    "\n",
    "#Binary cross entropy fonksiyonumuz.\n",
    "def crossEntropy(y_pred,y):\n",
    "    if y==1:\n",
    "        return -np.log(y_pred)\n",
    "    else:\n",
    "        return -np.log(1-y_pred)\n",
    "\n",
    "#z:Ağırlıklarla girdilerin çarpılıp toplanmasından elde edilen değere z diyoduk.\n",
    "#z değerini sigmoid fonksiyonuna göndereceğiz.Oda bize çıktı üretecek.\n",
    "def sigmoid(z):\n",
    "    return 1/(1+np.exp(-z))"
   ]
  },
  {
   "cell_type": "code",
   "execution_count": 20,
   "id": "cde95397",
   "metadata": {},
   "outputs": [],
   "source": [
    "#Geri yayılımda türevler lazım.\n",
    "#Cross entropy'nin türevini almışız\n",
    "\n",
    "def derivativeCrossEntropy(y_pred,y):\n",
    "    if y==1:\n",
    "        return -1/y_pred\n",
    "    else:\n",
    "        return 1/(1-y_pred)\n",
    "\n",
    "#Sigmoidin türevide x*(1-x)'tir.'\n",
    "def derivativeSigmoid(x):\n",
    "    return x*(1-x)"
   ]
  },
  {
   "cell_type": "code",
   "execution_count": 21,
   "id": "177fef9c",
   "metadata": {},
   "outputs": [
    {
     "name": "stdout",
     "output_type": "stream",
     "text": [
      "[-0.00597174] [-0.00636906] [0.00587981]\n"
     ]
    }
   ],
   "source": [
    "#Girdiler ve çıktıları belirlememiz lazım.\n",
    "#Girdi sayımız biası saymazsak 2'dir.And kapısınında girdisi 2.Biasla beraber\n",
    "#3 adet girdimiz olması gerekir.\n",
    "\n",
    "X=np.array([[0,0],[0,1],[1,0],[1,1]])\n",
    "\n",
    "#Olması gereken çıktılar.\n",
    "Y=np.array([0,0,0,1])\n",
    "\n",
    "#Ağırlıkları belirlememiz lazım.Bir adet nöron kullanacağız.\n",
    "#Ağırlıkları belirlerkende -0.01 ile +0.01 arasında yapacağız.\n",
    "\n",
    "low=-0.01\n",
    "high=0.01\n",
    "\n",
    "#W2 2. girdinin ağırlığı\n",
    "W_2=np.random.uniform(low=low,high=high,size=(1,))\n",
    "#W1 1.girdinin ağırlığı\n",
    "W_1=np.random.uniform(low=low,high=high,size=(1,))\n",
    "#W0 biasın ağırlığı\n",
    "W_0=np.random.uniform(low=low,high=high,size=(1,))\n",
    "\n",
    "print(W_0,W_1,W_2)\n"
   ]
  },
  {
   "cell_type": "code",
   "execution_count": 22,
   "id": "6d5ec685",
   "metadata": {},
   "outputs": [
    {
     "name": "stdout",
     "output_type": "stream",
     "text": [
      "[2 0 3 1]\n"
     ]
    },
    {
     "data": {
      "text/plain": [
       "(4, 2)"
      ]
     },
     "execution_count": 22,
     "metadata": {},
     "output_type": "execute_result"
    }
   ],
   "source": [
    "#Epoch boyunca bu modeli eğitmemiz lazım.\n",
    "#Gradient distantın ileri geri ileri geri yayılması gerekiyor.Bi epok belirledik\n",
    "#2000.Öğrenme katsayımız 0.01 bunu ağırlıkları güncellerken kullanıyoruz.\n",
    "#Rastgele indexler oluşuturduk çünkü ([[0,0],[0,1],[1,0],[1,1]]) bu değerleri\n",
    "#Sırayla [0,0] [0,1] şeklinde vermektense her seferinde rastgele indexten oluşan\n",
    "#bir sistemle yapıyoruz.\n",
    "\n",
    "epoch=2000\n",
    "lr_rate=0.01\n",
    "random_index=np.arange(X.shape[0])\n",
    "\n",
    "np.random.shuffle(random_index)\n",
    "print(random_index)\n",
    "X.shape\n",
    "#X.shape (4,2) 4 tane veri var. 4 satır 2 sütundan oluşan veri.\n",
    "#X.shape[0] = 4 olmuş oluyo.\n",
    "#Her seferinde karıştırıp indexleri veriyor.Bunu 2000 epoch boyunca çalıştıracağız\n",
    "#ve karıştırarak modele öğreteceğiz."
   ]
  },
  {
   "cell_type": "code",
   "execution_count": 23,
   "id": "01eda629",
   "metadata": {},
   "outputs": [
    {
     "name": "stdout",
     "output_type": "stream",
     "text": [
      "[-4.26863004] [2.69297058] [2.69331243]\n",
      "Bitti\n"
     ]
    }
   ],
   "source": [
    "#Hataları tutmak için bir liste oluşturduk.\n",
    "E=[]\n",
    "for e in range(epoch):\n",
    "    \n",
    "    random_index=np.arange(X.shape[0])\n",
    "    \n",
    "    np.random.shuffle(random_index)\n",
    "    #İndex bazında,epoch bazında hataları tutmak için e listesi.\n",
    "    e=[]\n",
    "    \n",
    "    #ilk önce random indexin içindeki indexleri sırasıyla alıyoruz.\n",
    "    #3ü aldık diyelim 3'ün içinde 1,0 var.\n",
    "    \n",
    "    \n",
    "    for i in random_index:\n",
    "        x=X[i]\n",
    "        \n",
    "        #x[0] 1 oluyor, x[1] ise 0.\n",
    "        #W'ları rastgele atmıştık.\n",
    "        Z=W_1*x[0] + W_2*x[1]+W_0\n",
    "        \n",
    "        #Z değerini sigmoide gönderiyoruz.Buda bir tahmin üretecek.\n",
    "        Y_pred = sigmoid(Z)\n",
    "        \n",
    "        #Sonrasında crossEntropy fonksiyonuna olması gereken Y[i] değeriyle\n",
    "        #kendi tahminimizi gönderiyoruz.Gelen hatayıda e'ye ekliyoruz.\n",
    "        e.append(crossEntropy(Y_pred,Y[i]))\n",
    "        \n",
    "        #W1 için zincir kuralıyla hesaplıyoruz.\n",
    "        #Maliyet fonksiyonunun türevi ve sigmoid fonksiyonunun türevi * x[0]'ın kendi değeri.\n",
    "        dEdW_1=derivativeCrossEntropy(Y_pred,Y[i])*derivativeSigmoid(Y_pred)*x[0]\n",
    "        dEdW_2=derivativeCrossEntropy(Y_pred,Y[i])*derivativeSigmoid(Y_pred)*x[1]\n",
    "        #W0 biastı.\n",
    "        dEdW_0=derivativeCrossEntropy(Y_pred,Y[i])*derivativeSigmoid(Y_pred)\n",
    "        \n",
    "        #Sonrasında ağırlıkları güncelliyoruz.\n",
    "        #dEdW dediğimiz W_0'ın kısmi türevi.\n",
    "        W_0=W_0-lr_rate*dEdW_0\n",
    "        W_1=W_1-lr_rate*dEdW_1\n",
    "        W_2=W_2-lr_rate*dEdW_2\n",
    "        \n",
    "    #Tüm epoch boyunca elde ettiğimiz error'un ortalamasını iterasyon boyunca e değerine\n",
    "    #atıyoruz.İterasyon sonucunda elde ettiğimiz W1'lerle çıktılar arasında fark varmı.\n",
    "    E.append(np.mean(e))\n",
    "\n",
    "print(W_0,W_1,W_2)\n",
    "print(\"Bitti\")    \n",
    "        "
   ]
  },
  {
   "cell_type": "code",
   "execution_count": 24,
   "id": "a3fa0adf",
   "metadata": {},
   "outputs": [
    {
     "data": {
      "image/png": "[encoded data removed]",
      "text/plain": [
       "<Figure size 432x288 with 1 Axes>"
      ]
     },
     "metadata": {
      "needs_background": "light"
     },
     "output_type": "display_data"
    }
   ],
   "source": [
    "plt.figure()\n",
    "plt.grid()\n",
    "plt.xlabel(\"Epochs\")\n",
    "plt.ylabel(\"Loss\")\n",
    "plt.plot(E,c='r')\n",
    "plt.show()"
   ]
  },
  {
   "cell_type": "code",
   "execution_count": 26,
   "id": "7bd0bba4",
   "metadata": {},
   "outputs": [],
   "source": [
    "#Modelimizi test etmek istiyoruz.\n",
    "\n",
    "#Test fonksiyonumuzda x1 ve x2'yi veriyoruz.Bulduğumuz W değerleriyle bunları\n",
    "#çarpıyoruz.Sigmoide sokuyoruz.Tahminimiz 0.5'ten küçükse 0, değilse 1 yazıcak.\n",
    "#Her biri için modeli tek tek test ediyoruz. \n",
    "def test_model(x1,x2):\n",
    "    \n",
    "    Z=W_1*x1 + W_2*x2 + W_0\n",
    "    y_pred = sigmoid(Z)\n",
    "    \n",
    "    if(y_pred<0.5):\n",
    "        print(0)\n",
    "    \n",
    "    else:\n",
    "        print(1)"
   ]
  },
  {
   "cell_type": "code",
   "execution_count": 27,
   "id": "0ec000be",
   "metadata": {},
   "outputs": [
    {
     "name": "stdout",
     "output_type": "stream",
     "text": [
      "0\n",
      "0\n",
      "1\n",
      "0\n"
     ]
    }
   ],
   "source": [
    "test_model(0,1)\n",
    "test_model(1,0)\n",
    "test_model(1,1)\n",
    "test_model(0,0)"
   ]
  },
  {
   "cell_type": "code",
   "execution_count": null,
   "id": "831c002d",
   "metadata": {},
   "outputs": [],
   "source": [
    "#Burada tek bir nörondan oluşan tek bir and kapısı yaptık.Tahminlerde doğru çalışıyor."
   ]
  }
 ],
 "metadata": {
  "kernelspec": {
   "display_name": "Python 3 (ipykernel)",
   "language": "python",
   "name": "python3"
  },
  "language_info": {
   "codemirror_mode": {
    "name": "ipython",
    "version": 3
   },
   "file_extension": ".py",
   "mimetype": "text/x-python",
   "name": "python",
   "nbconvert_exporter": "python",
   "pygments_lexer": "ipython3",
   "version": "3.9.7"
  }
 },
 "nbformat": 4,
 "nbformat_minor": 5
}
